{
 "cells": [
  {
   "cell_type": "markdown",
   "id": "a530ac0f",
   "metadata": {},
   "source": [
    "### Step one: Importing libraries"
   ]
  },
  {
   "cell_type": "code",
   "execution_count": 1,
   "id": "8b0c600f",
   "metadata": {},
   "outputs": [],
   "source": [
    "#importing libraries\n",
    "# Import necessary libraries\n",
    "import pandas as pd\n",
    "import numpy as np\n",
    "import seaborn as sns\n",
    "import matplotlib.pyplot as plt\n",
    "from sklearn.model_selection import train_test_split\n",
    "from sklearn import svm\n",
    "from sklearn.ensemble import RandomForestClassifier, GradientBoostingClassifier\n",
    "from sklearn.linear_model import LogisticRegression\n",
    "from sklearn.metrics import classification_report, confusion_matrix\n",
    "from sklearn.metrics import accuracy_score, precision_score, f1_score, recall_score\n",
    "from sklearn.model_selection import GridSearchCV, RandomizedSearchCV\n",
    "\n",
    "import warnings\n",
    "warnings.filterwarnings('ignore')"
   ]
  },
  {
   "cell_type": "code",
   "execution_count": 2,
   "id": "cd5c4ad9",
   "metadata": {},
   "outputs": [
    {
     "data": {
      "text/html": [
       "<div>\n",
       "<style scoped>\n",
       "    .dataframe tbody tr th:only-of-type {\n",
       "        vertical-align: middle;\n",
       "    }\n",
       "\n",
       "    .dataframe tbody tr th {\n",
       "        vertical-align: top;\n",
       "    }\n",
       "\n",
       "    .dataframe thead th {\n",
       "        text-align: right;\n",
       "    }\n",
       "</style>\n",
       "<table border=\"1\" class=\"dataframe\">\n",
       "  <thead>\n",
       "    <tr style=\"text-align: right;\">\n",
       "      <th></th>\n",
       "      <th>customerID</th>\n",
       "      <th>gender</th>\n",
       "      <th>SeniorCitizen</th>\n",
       "      <th>Partner</th>\n",
       "      <th>Dependents</th>\n",
       "      <th>tenure</th>\n",
       "      <th>PhoneService</th>\n",
       "      <th>MultipleLines</th>\n",
       "      <th>InternetService</th>\n",
       "      <th>OnlineSecurity</th>\n",
       "      <th>...</th>\n",
       "      <th>DeviceProtection</th>\n",
       "      <th>TechSupport</th>\n",
       "      <th>StreamingTV</th>\n",
       "      <th>StreamingMovies</th>\n",
       "      <th>Contract</th>\n",
       "      <th>PaperlessBilling</th>\n",
       "      <th>PaymentMethod</th>\n",
       "      <th>MonthlyCharges</th>\n",
       "      <th>TotalCharges</th>\n",
       "      <th>Churn</th>\n",
       "    </tr>\n",
       "  </thead>\n",
       "  <tbody>\n",
       "    <tr>\n",
       "      <th>2940</th>\n",
       "      <td>6313-GIDIT</td>\n",
       "      <td>Male</td>\n",
       "      <td>1</td>\n",
       "      <td>No</td>\n",
       "      <td>No</td>\n",
       "      <td>53</td>\n",
       "      <td>No</td>\n",
       "      <td>No phone service</td>\n",
       "      <td>DSL</td>\n",
       "      <td>No</td>\n",
       "      <td>...</td>\n",
       "      <td>Yes</td>\n",
       "      <td>No</td>\n",
       "      <td>Yes</td>\n",
       "      <td>Yes</td>\n",
       "      <td>Month-to-month</td>\n",
       "      <td>Yes</td>\n",
       "      <td>Electronic check</td>\n",
       "      <td>54.45</td>\n",
       "      <td>2854.55</td>\n",
       "      <td>Yes</td>\n",
       "    </tr>\n",
       "  </tbody>\n",
       "</table>\n",
       "<p>1 rows × 21 columns</p>\n",
       "</div>"
      ],
      "text/plain": [
       "      customerID gender  SeniorCitizen Partner Dependents  tenure  \\\n",
       "2940  6313-GIDIT   Male              1      No         No      53   \n",
       "\n",
       "     PhoneService     MultipleLines InternetService OnlineSecurity  ...  \\\n",
       "2940           No  No phone service             DSL             No  ...   \n",
       "\n",
       "     DeviceProtection TechSupport StreamingTV StreamingMovies        Contract  \\\n",
       "2940              Yes          No         Yes             Yes  Month-to-month   \n",
       "\n",
       "     PaperlessBilling     PaymentMethod MonthlyCharges  TotalCharges Churn  \n",
       "2940              Yes  Electronic check          54.45       2854.55   Yes  \n",
       "\n",
       "[1 rows x 21 columns]"
      ]
     },
     "execution_count": 2,
     "metadata": {},
     "output_type": "execute_result"
    }
   ],
   "source": [
    "# Import the Telco Churn Dataset\n",
    "\n",
    "df = pd.read_csv(r\"C:\\Users\\HP\\Desktop\\data_talks\\Telco-Customer-Churn.csv\")\n",
    "df.sample()"
   ]
  },
  {
   "cell_type": "code",
   "execution_count": 3,
   "id": "2ec4fb72",
   "metadata": {},
   "outputs": [
    {
     "name": "stdout",
     "output_type": "stream",
     "text": [
      "<class 'pandas.core.frame.DataFrame'>\n",
      "RangeIndex: 7043 entries, 0 to 7042\n",
      "Data columns (total 21 columns):\n",
      " #   Column            Non-Null Count  Dtype  \n",
      "---  ------            --------------  -----  \n",
      " 0   customerID        7043 non-null   object \n",
      " 1   gender            7043 non-null   object \n",
      " 2   SeniorCitizen     7043 non-null   int64  \n",
      " 3   Partner           7043 non-null   object \n",
      " 4   Dependents        7043 non-null   object \n",
      " 5   tenure            7043 non-null   int64  \n",
      " 6   PhoneService      7043 non-null   object \n",
      " 7   MultipleLines     7043 non-null   object \n",
      " 8   InternetService   7043 non-null   object \n",
      " 9   OnlineSecurity    7043 non-null   object \n",
      " 10  OnlineBackup      7043 non-null   object \n",
      " 11  DeviceProtection  7043 non-null   object \n",
      " 12  TechSupport       7043 non-null   object \n",
      " 13  StreamingTV       7043 non-null   object \n",
      " 14  StreamingMovies   7043 non-null   object \n",
      " 15  Contract          7043 non-null   object \n",
      " 16  PaperlessBilling  7043 non-null   object \n",
      " 17  PaymentMethod     7043 non-null   object \n",
      " 18  MonthlyCharges    7043 non-null   float64\n",
      " 19  TotalCharges      7043 non-null   object \n",
      " 20  Churn             7043 non-null   object \n",
      "dtypes: float64(1), int64(2), object(18)\n",
      "memory usage: 1.1+ MB\n"
     ]
    }
   ],
   "source": [
    "# Check the dataset columns\n",
    "\n",
    "df.info()"
   ]
  },
  {
   "cell_type": "code",
   "execution_count": 4,
   "id": "434f7bae",
   "metadata": {},
   "outputs": [],
   "source": [
    "df.columns = df.columns.str.lower() # this will keep all the columns in lowercase"
   ]
  },
  {
   "cell_type": "code",
   "execution_count": 5,
   "id": "ff7c5f79",
   "metadata": {},
   "outputs": [
    {
     "name": "stdout",
     "output_type": "stream",
     "text": [
      "The unique values in column customerid are: \n",
      "['7590-VHVEG' '5575-GNVDE' '3668-QPYBK' ... '4801-JZAZL' '8361-LTMKD'\n",
      " '3186-AJIEK']\n",
      " \n",
      "The unique values in column gender are: \n",
      "['Female' 'Male']\n",
      " \n",
      "The unique values in column seniorcitizen are: \n",
      "[0 1]\n",
      " \n",
      "The unique values in column partner are: \n",
      "['Yes' 'No']\n",
      " \n",
      "The unique values in column dependents are: \n",
      "['No' 'Yes']\n",
      " \n",
      "The unique values in column tenure are: \n",
      "[ 1 34  2 45  8 22 10 28 62 13 16 58 49 25 69 52 71 21 12 30 47 72 17 27\n",
      "  5 46 11 70 63 43 15 60 18 66  9  3 31 50 64 56  7 42 35 48 29 65 38 68\n",
      " 32 55 37 36 41  6  4 33 67 23 57 61 14 20 53 40 59 24 44 19 54 51 26  0\n",
      " 39]\n",
      " \n",
      "The unique values in column phoneservice are: \n",
      "['No' 'Yes']\n",
      " \n",
      "The unique values in column multiplelines are: \n",
      "['No phone service' 'No' 'Yes']\n",
      " \n",
      "The unique values in column internetservice are: \n",
      "['DSL' 'Fiber optic' 'No']\n",
      " \n",
      "The unique values in column onlinesecurity are: \n",
      "['No' 'Yes' 'No internet service']\n",
      " \n",
      "The unique values in column onlinebackup are: \n",
      "['Yes' 'No' 'No internet service']\n",
      " \n",
      "The unique values in column deviceprotection are: \n",
      "['No' 'Yes' 'No internet service']\n",
      " \n",
      "The unique values in column techsupport are: \n",
      "['No' 'Yes' 'No internet service']\n",
      " \n",
      "The unique values in column streamingtv are: \n",
      "['No' 'Yes' 'No internet service']\n",
      " \n",
      "The unique values in column streamingmovies are: \n",
      "['No' 'Yes' 'No internet service']\n",
      " \n",
      "The unique values in column contract are: \n",
      "['Month-to-month' 'One year' 'Two year']\n",
      " \n",
      "The unique values in column paperlessbilling are: \n",
      "['Yes' 'No']\n",
      " \n",
      "The unique values in column paymentmethod are: \n",
      "['Electronic check' 'Mailed check' 'Bank transfer (automatic)'\n",
      " 'Credit card (automatic)']\n",
      " \n",
      "The unique values in column monthlycharges are: \n",
      "[29.85 56.95 53.85 ... 63.1  44.2  78.7 ]\n",
      " \n",
      "The unique values in column totalcharges are: \n",
      "['29.85' '1889.5' '108.15' ... '346.45' '306.6' '6844.5']\n",
      " \n",
      "The unique values in column churn are: \n",
      "['No' 'Yes']\n",
      " \n"
     ]
    }
   ],
   "source": [
    "# Check the unique values of each dataset\n",
    "\n",
    "for col in df.columns:\n",
    "    print(f\"The unique values in column {col} are: \")\n",
    "    print(df[col].unique())\n",
    "    print(\" \")"
   ]
  },
  {
   "cell_type": "code",
   "execution_count": 6,
   "id": "a53a9e8a",
   "metadata": {},
   "outputs": [
    {
     "data": {
      "text/plain": [
       "11"
      ]
     },
     "execution_count": 6,
     "metadata": {},
     "output_type": "execute_result"
    }
   ],
   "source": [
    "# Map the target variable, churn, to a numerical value as well as the totalcharges column \n",
    "\n",
    "df['churn'] = df['churn'].map({'Yes': 1, 'No': 0})\n",
    "df['totalcharges'] = pd.to_numeric(df.totalcharges, errors=\"coerce\")\n",
    "\n",
    "df['totalcharges'].isnull().sum()"
   ]
  },
  {
   "cell_type": "code",
   "execution_count": 7,
   "id": "b1b76818",
   "metadata": {},
   "outputs": [],
   "source": [
    "df['totalcharges'] = df['totalcharges'].fillna(0)"
   ]
  },
  {
   "cell_type": "code",
   "execution_count": 8,
   "id": "8d804f8b",
   "metadata": {},
   "outputs": [],
   "source": [
    "categorical_columns = list(df.dtypes[df.dtypes==\"object\"].index)"
   ]
  },
  {
   "cell_type": "code",
   "execution_count": 9,
   "id": "159ed546",
   "metadata": {},
   "outputs": [
    {
     "data": {
      "text/plain": [
       "customerid          0.578599\n",
       "contract            0.098453\n",
       "onlinesecurity      0.064677\n",
       "techsupport         0.063021\n",
       "internetservice     0.055574\n",
       "onlinebackup        0.046792\n",
       "paymentmethod       0.044519\n",
       "deviceprotection    0.043917\n",
       "streamingmovies     0.032001\n",
       "streamingtv         0.031908\n",
       "paperlessbilling    0.019194\n",
       "dependents          0.014467\n",
       "partner             0.011454\n",
       "multiplelines       0.000801\n",
       "phoneservice        0.000072\n",
       "gender              0.000037\n",
       "dtype: float64"
      ]
     },
     "execution_count": 9,
     "metadata": {},
     "output_type": "execute_result"
    }
   ],
   "source": [
    "# Check for correlation between the target variable and the categorical columns\n",
    "\n",
    "from sklearn.metrics import mutual_info_score\n",
    "\n",
    "def mutual_churn(series):\n",
    "    return mutual_info_score(series, df.churn)\n",
    "\n",
    "cat_features_importance = df[categorical_columns].apply(mutual_churn)\n",
    "cat_features_importance.sort_values(ascending=False)"
   ]
  },
  {
   "cell_type": "code",
   "execution_count": 10,
   "id": "aff8fbb0",
   "metadata": {},
   "outputs": [
    {
     "data": {
      "text/html": [
       "<div>\n",
       "<style scoped>\n",
       "    .dataframe tbody tr th:only-of-type {\n",
       "        vertical-align: middle;\n",
       "    }\n",
       "\n",
       "    .dataframe tbody tr th {\n",
       "        vertical-align: top;\n",
       "    }\n",
       "\n",
       "    .dataframe thead th {\n",
       "        text-align: right;\n",
       "    }\n",
       "</style>\n",
       "<table border=\"1\" class=\"dataframe\">\n",
       "  <thead>\n",
       "    <tr style=\"text-align: right;\">\n",
       "      <th></th>\n",
       "      <th>seniorcitizen</th>\n",
       "      <th>tenure</th>\n",
       "      <th>monthlycharges</th>\n",
       "      <th>totalcharges</th>\n",
       "      <th>churn</th>\n",
       "    </tr>\n",
       "  </thead>\n",
       "  <tbody>\n",
       "    <tr>\n",
       "      <th>seniorcitizen</th>\n",
       "      <td>1.000000</td>\n",
       "      <td>0.016567</td>\n",
       "      <td>0.220173</td>\n",
       "      <td>0.103006</td>\n",
       "      <td>0.150889</td>\n",
       "    </tr>\n",
       "    <tr>\n",
       "      <th>tenure</th>\n",
       "      <td>0.016567</td>\n",
       "      <td>1.000000</td>\n",
       "      <td>0.247900</td>\n",
       "      <td>0.826178</td>\n",
       "      <td>-0.352229</td>\n",
       "    </tr>\n",
       "    <tr>\n",
       "      <th>monthlycharges</th>\n",
       "      <td>0.220173</td>\n",
       "      <td>0.247900</td>\n",
       "      <td>1.000000</td>\n",
       "      <td>0.651174</td>\n",
       "      <td>0.193356</td>\n",
       "    </tr>\n",
       "    <tr>\n",
       "      <th>totalcharges</th>\n",
       "      <td>0.103006</td>\n",
       "      <td>0.826178</td>\n",
       "      <td>0.651174</td>\n",
       "      <td>1.000000</td>\n",
       "      <td>-0.198324</td>\n",
       "    </tr>\n",
       "    <tr>\n",
       "      <th>churn</th>\n",
       "      <td>0.150889</td>\n",
       "      <td>-0.352229</td>\n",
       "      <td>0.193356</td>\n",
       "      <td>-0.198324</td>\n",
       "      <td>1.000000</td>\n",
       "    </tr>\n",
       "  </tbody>\n",
       "</table>\n",
       "</div>"
      ],
      "text/plain": [
       "                seniorcitizen    tenure  monthlycharges  totalcharges  \\\n",
       "seniorcitizen        1.000000  0.016567        0.220173      0.103006   \n",
       "tenure               0.016567  1.000000        0.247900      0.826178   \n",
       "monthlycharges       0.220173  0.247900        1.000000      0.651174   \n",
       "totalcharges         0.103006  0.826178        0.651174      1.000000   \n",
       "churn                0.150889 -0.352229        0.193356     -0.198324   \n",
       "\n",
       "                   churn  \n",
       "seniorcitizen   0.150889  \n",
       "tenure         -0.352229  \n",
       "monthlycharges  0.193356  \n",
       "totalcharges   -0.198324  \n",
       "churn           1.000000  "
      ]
     },
     "execution_count": 10,
     "metadata": {},
     "output_type": "execute_result"
    }
   ],
   "source": [
    "# Check for correlation between the target variable and the numerical columns\n",
    "\n",
    "numerical_columns = df.select_dtypes(exclude=\"object\").columns\n",
    "\n",
    "df[numerical_columns].corr(method=\"pearson\")"
   ]
  },
  {
   "cell_type": "code",
   "execution_count": 11,
   "id": "6c0b852d",
   "metadata": {},
   "outputs": [],
   "source": [
    "# Encode Categorical columns\n",
    "\n",
    "from sklearn.preprocessing import LabelEncoder\n",
    "le = LabelEncoder()\n",
    "\n",
    "df['contract_n']      = le.fit_transform(df['contract'])\n",
    "df['onlinesecurity_n'] = le.fit_transform(df['onlinesecurity'])\n",
    "df['techsupport_n']  = le.fit_transform(df['techsupport'])\n",
    "df['internetservice_n']    = le.fit_transform(df['internetservice'])\n",
    "df['onlinebackup_n']  = le.fit_transform(df['onlinebackup'])\n",
    "df['paymentmethod_n']    = le.fit_transform(df['paymentmethod'])"
   ]
  },
  {
   "cell_type": "code",
   "execution_count": 12,
   "id": "57714433",
   "metadata": {},
   "outputs": [],
   "source": [
    "# Choose he churn as dependent variable and the top correlated columns as independent variables\n",
    "\n",
    "X = df[['paymentmethod_n', 'onlinebackup_n','internetservice_n','techsupport_n',\n",
    "        'onlinesecurity_n','contract_n','seniorcitizen','tenure','monthlycharges','totalcharges']]\n",
    "\n",
    "y = df[\"churn\"]"
   ]
  },
  {
   "cell_type": "code",
   "execution_count": 13,
   "id": "e91e843b",
   "metadata": {},
   "outputs": [],
   "source": [
    "# Standardize the numerical columns of X\n",
    "\n",
    "from sklearn.preprocessing import StandardScaler\n",
    "scaler = StandardScaler()\n",
    "\n",
    "col = ['seniorcitizen', 'tenure', 'monthlycharges', 'totalcharges']\n",
    "X.loc[:, col] = scaler.fit_transform(X.loc[:, col])"
   ]
  },
  {
   "cell_type": "code",
   "execution_count": 14,
   "id": "fffdce8e",
   "metadata": {},
   "outputs": [
    {
     "data": {
      "text/plain": [
       "(5634, 10)"
      ]
     },
     "execution_count": 14,
     "metadata": {},
     "output_type": "execute_result"
    }
   ],
   "source": [
    "x_train,x_test,y_train,y_test = train_test_split(X, y, train_size=0.8)\n",
    "x_train.shape"
   ]
  },
  {
   "cell_type": "code",
   "execution_count": 15,
   "id": "a7704175",
   "metadata": {},
   "outputs": [
    {
     "name": "stdout",
     "output_type": "stream",
     "text": [
      "Requirement already satisfied: xgboost in c:\\users\\hp\\anaconda3\\lib\\site-packages (2.1.1)\n",
      "Requirement already satisfied: numpy in c:\\users\\hp\\anaconda3\\lib\\site-packages (from xgboost) (1.24.3)\n",
      "Requirement already satisfied: scipy in c:\\users\\hp\\anaconda3\\lib\\site-packages (from xgboost) (1.11.1)\n"
     ]
    }
   ],
   "source": [
    "!pip install xgboost\n",
    "import xgboost"
   ]
  },
  {
   "cell_type": "code",
   "execution_count": 16,
   "id": "7a652372",
   "metadata": {},
   "outputs": [
    {
     "data": {
      "text/html": [
       "<div>\n",
       "<style scoped>\n",
       "    .dataframe tbody tr th:only-of-type {\n",
       "        vertical-align: middle;\n",
       "    }\n",
       "\n",
       "    .dataframe tbody tr th {\n",
       "        vertical-align: top;\n",
       "    }\n",
       "\n",
       "    .dataframe thead th {\n",
       "        text-align: right;\n",
       "    }\n",
       "</style>\n",
       "<table border=\"1\" class=\"dataframe\">\n",
       "  <thead>\n",
       "    <tr style=\"text-align: right;\">\n",
       "      <th></th>\n",
       "      <th>Model</th>\n",
       "      <th>Accuracy</th>\n",
       "      <th>Precision</th>\n",
       "      <th>Recall</th>\n",
       "      <th>F1 Score</th>\n",
       "    </tr>\n",
       "  </thead>\n",
       "  <tbody>\n",
       "    <tr>\n",
       "      <th>0</th>\n",
       "      <td>Logistic Regression</td>\n",
       "      <td>0.797729</td>\n",
       "      <td>0.616352</td>\n",
       "      <td>0.545961</td>\n",
       "      <td>0.579025</td>\n",
       "    </tr>\n",
       "    <tr>\n",
       "      <th>1</th>\n",
       "      <td>Random Forest</td>\n",
       "      <td>0.782825</td>\n",
       "      <td>0.582043</td>\n",
       "      <td>0.523677</td>\n",
       "      <td>0.551320</td>\n",
       "    </tr>\n",
       "    <tr>\n",
       "      <th>2</th>\n",
       "      <td>Gradient Boosting</td>\n",
       "      <td>0.793471</td>\n",
       "      <td>0.618881</td>\n",
       "      <td>0.493036</td>\n",
       "      <td>0.548837</td>\n",
       "    </tr>\n",
       "    <tr>\n",
       "      <th>3</th>\n",
       "      <td>XG Boost</td>\n",
       "      <td>0.782115</td>\n",
       "      <td>0.577381</td>\n",
       "      <td>0.540390</td>\n",
       "      <td>0.558273</td>\n",
       "    </tr>\n",
       "  </tbody>\n",
       "</table>\n",
       "</div>"
      ],
      "text/plain": [
       "                 Model  Accuracy  Precision    Recall  F1 Score\n",
       "0  Logistic Regression  0.797729   0.616352  0.545961  0.579025\n",
       "1        Random Forest  0.782825   0.582043  0.523677  0.551320\n",
       "2    Gradient Boosting  0.793471   0.618881  0.493036  0.548837\n",
       "3             XG Boost  0.782115   0.577381  0.540390  0.558273"
      ]
     },
     "execution_count": 16,
     "metadata": {},
     "output_type": "execute_result"
    }
   ],
   "source": [
    "# Now, let us define the models\n",
    "models = {\n",
    "    'Logistic Regression': LogisticRegression(C = 10, solver = 'liblinear'),\n",
    "    'Random Forest': RandomForestClassifier(criterion = 'entropy', n_estimators = 100),\n",
    "    'Gradient Boosting': GradientBoostingClassifier(),\n",
    "    'XG Boost': xgboost.XGBClassifier(objective=\"binary:logistic\", random_state=42)\n",
    "}\n",
    "\n",
    "# Also, we will initiate an empty dataframe to store our metrics\n",
    "results_df = pd.DataFrame(columns=['Model', 'Accuracy', 'Precision', 'Recall', 'F1 Score'])\n",
    "\n",
    "# Then, we will loop through the models to train, make predictions, and calculate the metrics\n",
    "for model_name, model in models.items():\n",
    "    # Training the model\n",
    "    model.fit(x_train, y_train)\n",
    "\n",
    "    # Predict\n",
    "    y_pred = model.predict(x_test)\n",
    "\n",
    "    # Calculate metrics\n",
    "    accuracy = accuracy_score(y_test, y_pred)\n",
    "    precision = precision_score(y_test, y_pred)\n",
    "    recall = recall_score(y_test, y_pred)\n",
    "    f1 = f1_score(y_test, y_pred)\n",
    "\n",
    "    # create dictionary with results\n",
    "    results_dict = {\n",
    "        'Model': model_name,\n",
    "        'Accuracy': accuracy,\n",
    "        'Precision': precision,\n",
    "        'Recall': recall,\n",
    "        'F1 Score': f1\n",
    "    }\n",
    "\n",
    "    # Store metrics in results_df\n",
    "    results_df = pd.concat([results_df, pd.DataFrame([results_dict])], ignore_index=True)\n",
    "    # as at new release of pandas, the append function has been removed\n",
    "\n",
    "# # Print out results dataframe\n",
    "# print(\"\\nMetrics Comparison\")\n",
    "# print(results_df)\n",
    "results_df"
   ]
  },
  {
   "cell_type": "code",
   "execution_count": 17,
   "id": "42e2af49",
   "metadata": {},
   "outputs": [
    {
     "name": "stdout",
     "output_type": "stream",
     "text": [
      "[[928 122]\n",
      " [163 196]]\n",
      " \n",
      "              precision    recall  f1-score   support\n",
      "\n",
      "           0       0.85      0.88      0.87      1050\n",
      "           1       0.62      0.55      0.58       359\n",
      "\n",
      "    accuracy                           0.80      1409\n",
      "   macro avg       0.73      0.71      0.72      1409\n",
      "weighted avg       0.79      0.80      0.79      1409\n",
      "\n"
     ]
    }
   ],
   "source": [
    "# Using Logisitic Regression\n",
    "log_model = LogisticRegression(C = 10, solver = 'liblinear')\n",
    "log_model.fit(x_train,y_train)\n",
    "\n",
    "y_predict = log_model.predict(x_test)\n",
    "\n",
    "print(confusion_matrix(y_test,y_predict))\n",
    "print(\" \")\n",
    "print(classification_report(y_test, y_predict))"
   ]
  },
  {
   "cell_type": "code",
   "execution_count": 18,
   "id": "0bb81913",
   "metadata": {},
   "outputs": [
    {
     "name": "stdout",
     "output_type": "stream",
     "text": [
      "Requirement already satisfied: joblib in c:\\users\\hp\\anaconda3\\lib\\site-packages (1.2.0)\n"
     ]
    },
    {
     "data": {
      "text/plain": [
       "['churn_prediction.joblib']"
      ]
     },
     "execution_count": 18,
     "metadata": {},
     "output_type": "execute_result"
    }
   ],
   "source": [
    "#Save the model using joblib \n",
    "\n",
    "!pip install joblib\n",
    "import joblib\n",
    "\n",
    "joblib.dump(log_model, 'churn_prediction.joblib')   # save the random forest algorithm for this task"
   ]
  },
  {
   "cell_type": "code",
   "execution_count": null,
   "id": "7b915917",
   "metadata": {},
   "outputs": [],
   "source": []
  }
 ],
 "metadata": {
  "kernelspec": {
   "display_name": "Python 3 (ipykernel)",
   "language": "python",
   "name": "python3"
  },
  "language_info": {
   "codemirror_mode": {
    "name": "ipython",
    "version": 3
   },
   "file_extension": ".py",
   "mimetype": "text/x-python",
   "name": "python",
   "nbconvert_exporter": "python",
   "pygments_lexer": "ipython3",
   "version": "3.11.5"
  }
 },
 "nbformat": 4,
 "nbformat_minor": 5
}
